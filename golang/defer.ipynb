{
 "cells": [
  {
   "cell_type": "code",
   "execution_count": 1,
   "metadata": {},
   "outputs": [],
   "source": [
    "import (\n",
    "    \"fmt\"\n",
    ")"
   ]
  },
  {
   "cell_type": "code",
   "execution_count": 2,
   "metadata": {},
   "outputs": [],
   "source": [
    "func f1() {\n",
    "    fmt.Println(\"f1\")\n",
    "    defer func() {\n",
    "        fmt.Println(\"f1 defer A\")\n",
    "    }()\n",
    "    \n",
    "    defer func() {\n",
    "        fmt.Println(\"f1 defer B\")\n",
    "    }()\n",
    "}"
   ]
  },
  {
   "cell_type": "code",
   "execution_count": 3,
   "metadata": {},
   "outputs": [
    {
     "name": "stdout",
     "output_type": "stream",
     "text": [
      "f1\n",
      "f1 defer B\n",
      "f1 defer A\n"
     ]
    }
   ],
   "source": [
    "// 可以多次defer, defer按后进先出顺序执行\n",
    "f1()"
   ]
  },
  {
   "cell_type": "code",
   "execution_count": 4,
   "metadata": {},
   "outputs": [],
   "source": [
    "func f2(isDefer bool) {\n",
    "    fmt.Println(\"f2 defer?\", isDefer)\n",
    "    if isDefer {\n",
    "        defer func() {\n",
    "            fmt.Println(\"f2 defer\")\n",
    "        }()\n",
    "    }\n",
    "}\n",
    "\n",
    "func f3() {\n",
    "    fmt.Println(\"f3\")\n",
    "    for i := 0; i < 3; i++ {\n",
    "        defer func(j int) {\n",
    "            fmt.Println(\"f3 defer\", j)\n",
    "        }(i)\n",
    "    }\n",
    "}"
   ]
  },
  {
   "cell_type": "code",
   "execution_count": 5,
   "metadata": {},
   "outputs": [
    {
     "name": "stdout",
     "output_type": "stream",
     "text": [
      "f2 defer? false\n",
      "f2 defer? true\n",
      "f2 defer\n",
      "f3\n",
      "f3 defer 2\n",
      "f3 defer 1\n",
      "f3 defer 0\n"
     ]
    }
   ],
   "source": [
    "// defer可以包含在code block里面, 没执行到的defer不会生效\n",
    "f2(false)\n",
    "f2(true)\n",
    "f3()"
   ]
  }
 ],
 "metadata": {
  "kernelspec": {
   "display_name": "Go",
   "language": "go",
   "name": "gophernotes"
  },
  "language_info": {
   "codemirror_mode": "",
   "file_extension": ".go",
   "mimetype": "",
   "name": "go",
   "nbconvert_exporter": "",
   "pygments_lexer": "",
   "version": "go1.12.1"
  }
 },
 "nbformat": 4,
 "nbformat_minor": 4
}
