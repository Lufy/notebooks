{
 "cells": [
  {
   "cell_type": "code",
   "execution_count": 2,
   "metadata": {},
   "outputs": [],
   "source": [
    "import (\n",
    "    \"fmt\"\n",
    ")"
   ]
  },
  {
   "cell_type": "code",
   "execution_count": 7,
   "metadata": {},
   "outputs": [
    {
     "name": "stdout",
     "output_type": "stream",
     "text": [
      "(0, 0)\n",
      "(0, 1)\n",
      "(0, 2)\n",
      "(0, 3)\n",
      "(1, 0)\n",
      "(1, 1)\n",
      "(1, 2)\n",
      "(1, 3)\n",
      "(2, 0)\n",
      "(2, 1)\n",
      "(2, 2)\n",
      "Label break: (2, 2)\n"
     ]
    }
   ],
   "source": [
    "// 跳出外层循环\n",
    "func breakLabel() {\n",
    "    Loop:\n",
    "    for i := 0; i < 4; i++ {\n",
    "        for j := 0; j < 4; j++ {\n",
    "            fmt.Printf(\"(%v, %v)\\n\", i, j)\n",
    "            if i + j == 6 {\n",
    "                fmt.Printf(\"Normal break: (%v, %v)\\n\", i, j)\n",
    "                break\n",
    "            }\n",
    "            if i * j == 4 {\n",
    "                fmt.Printf(\"Label break: (%v, %v)\\n\", i, j)\n",
    "                break Loop\n",
    "            }\n",
    "        }\n",
    "    }\n",
    "}\n",
    "breakLabel()"
   ]
  },
  {
   "cell_type": "code",
   "execution_count": 8,
   "metadata": {},
   "outputs": [
    {
     "name": "stdout",
     "output_type": "stream",
     "text": [
      "(0, 0)\n",
      "(0, 1)\n",
      "(0, 2)\n",
      "(0, 3)\n",
      "(1, 0)\n",
      "(1, 1)\n",
      "(1, 2)\n",
      "(1, 3)\n",
      "(2, 0)\n",
      "(2, 1)\n",
      "(2, 2)\n",
      "Label continue: (2, 2)\n",
      "(3, 0)\n",
      "(3, 1)\n",
      "(3, 2)\n",
      "(3, 3)\n",
      "Normal continue: (3, 3)\n"
     ]
    }
   ],
   "source": [
    "// 直接开始外层循环\n",
    "func continueLabel() {\n",
    "    Loop:\n",
    "    for i := 0; i < 4; i++ {\n",
    "        for j := 0; j < 4; j++ {\n",
    "            fmt.Printf(\"(%v, %v)\\n\", i, j)\n",
    "            if i + j == 6 {\n",
    "                fmt.Printf(\"Normal continue: (%v, %v)\\n\", i, j)\n",
    "                continue\n",
    "            }\n",
    "            if i * j == 4 {\n",
    "                fmt.Printf(\"Label continue: (%v, %v)\\n\", i, j)\n",
    "                continue Loop\n",
    "            }\n",
    "        }\n",
    "    }\n",
    "}\n",
    "continueLabel()"
   ]
  }
 ],
 "metadata": {
  "kernelspec": {
   "display_name": "Go",
   "language": "go",
   "name": "gophernotes"
  },
  "language_info": {
   "codemirror_mode": "",
   "file_extension": ".go",
   "mimetype": "",
   "name": "go",
   "nbconvert_exporter": "",
   "pygments_lexer": "",
   "version": "go1.12.1"
  }
 },
 "nbformat": 4,
 "nbformat_minor": 4
}
