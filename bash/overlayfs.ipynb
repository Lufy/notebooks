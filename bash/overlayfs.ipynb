{
 "cells": [
  {
   "cell_type": "markdown",
   "metadata": {},
   "source": [
    "### overlayfs是一个堆叠文件系统\n",
    "| 目录 | 作用 |\n",
    "|---|---|\n",
    "|work dir |  |\n",
    "| merged dir |  |\n",
    "| upper dir | |\n",
    "| lower1 dir | |\n",
    "| lower2 dir | |"
   ]
  }
 ],
 "metadata": {
  "kernelspec": {
   "display_name": "Bash",
   "language": "bash",
   "name": "bash"
  },
  "language_info": {
   "codemirror_mode": "shell",
   "file_extension": ".sh",
   "mimetype": "text/x-sh",
   "name": "bash"
  }
 },
 "nbformat": 4,
 "nbformat_minor": 4
}
