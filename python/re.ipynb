{
 "cells": [
  {
   "cell_type": "code",
   "execution_count": 26,
   "metadata": {},
   "outputs": [],
   "source": [
    "# 正则表达式\n",
    "import re\n",
    "testcases = [\"http://www.qq.com\", \"https://www.qq.com\", \"http://www.google.com\", \"https://mail.google.com\", \"ftp://www.apache.org\"]"
   ]
  },
  {
   "cell_type": "code",
   "execution_count": 27,
   "metadata": {},
   "outputs": [
    {
     "name": "stdout",
     "output_type": "stream",
     "text": [
      "http://www.qq.com True\n",
      "https://www.qq.com False\n",
      "http://www.google.com True\n",
      "https://mail.google.com False\n",
      "ftp://www.apache.org True\n"
     ]
    }
   ],
   "source": [
    "# 负向零宽断言 (Negative Lookahead)\n",
    "# (?!exp) 断言此位置不能匹配exp\n",
    "for i in testcases:\n",
    "    print(i, True if re.match(\"^(?!https)\\w+://.*\", i) else False)"
   ]
  },
  {
   "cell_type": "code",
   "execution_count": 28,
   "metadata": {},
   "outputs": [
    {
     "name": "stdout",
     "output_type": "stream",
     "text": [
      "http://www.qq.com False\n",
      "https://www.qq.com True\n",
      "http://www.google.com False\n",
      "https://mail.google.com True\n",
      "ftp://www.apache.org False\n"
     ]
    }
   ],
   "source": [
    "# 正向零宽断言 (Positive Lookahead)\n",
    "# (?=exp) 断言此位置匹配exp\n",
    "for i in testcases:\n",
    "    print(i, True if re.match(\"^(?=https)\\w+://.*\", i) else False)"
   ]
  },
  {
   "cell_type": "code",
   "execution_count": null,
   "metadata": {},
   "outputs": [],
   "source": [
    "# Negative Lookbehind\n",
    "# (?<!exp) 断言此位置以后不能匹配exp"
   ]
  },
  {
   "cell_type": "code",
   "execution_count": null,
   "metadata": {},
   "outputs": [],
   "source": [
    "# Positive Lookbehind\n",
    "# (?<=exp) 断言此位置以后匹配exp"
   ]
  }
 ],
 "metadata": {
  "kernelspec": {
   "display_name": "Python 3",
   "language": "python",
   "name": "python3"
  },
  "language_info": {
   "codemirror_mode": {
    "name": "ipython",
    "version": 3
   },
   "file_extension": ".py",
   "mimetype": "text/x-python",
   "name": "python",
   "nbconvert_exporter": "python",
   "pygments_lexer": "ipython3",
   "version": "3.7.6"
  }
 },
 "nbformat": 4,
 "nbformat_minor": 4
}
